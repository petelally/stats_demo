{
 "cells": [
  {
   "cell_type": "markdown",
   "id": "c9c4a990-a739-4c4f-a669-b9441fbda829",
   "metadata": {},
   "source": [
    "# Power calculations for a clinical trial\n",
    "\n",
    "Here we're going to:\n",
    "- run a power calculation for a phase 3 clinical trial (2 independent groups)\n",
    "- simulate the trial given our assumptions (using Monte Carlo) and validate our design\n",
    "\n",
    "If we get our power calculations right, then we should be able to predict the chance of finding a true difference between groups (**power**) and the chance of falsely finding a difference between groups when it doesn't actually exist (**alpha**)\n",
    "\n",
    "## Step 1: Import some useful libraries"
   ]
  },
  {
   "cell_type": "code",
   "execution_count": null,
   "id": "c0505f62-3d94-43ea-9039-5b00ec995200",
   "metadata": {
    "tags": []
   },
   "outputs": [],
   "source": [
    "import scipy.stats as stats\n",
    "import numpy as np\n",
    "import matplotlib.pyplot as plt\n",
    "from matplotlib import animation, rcParams\n",
    "from IPython.display import HTML\n",
    "import warnings\n",
    "warnings.filterwarnings('ignore')"
   ]
  },
  {
   "cell_type": "markdown",
   "id": "f02980bf-536b-4b68-8fb1-da9061d2e17a",
   "metadata": {},
   "source": [
    "## Step 2: Power calcuation\n",
    "\n",
    "Here we will decide what the mean outcome measure will be in **Group 1** and **Group 2**, as well as the variance of the outcome measure (expressed as a standard deviation, and here we assume it is equal for each group). "
   ]
  },
  {
   "cell_type": "code",
   "execution_count": null,
   "id": "9f62e01f-13f1-481f-a21f-0559482130ca",
   "metadata": {
    "tags": []
   },
   "outputs": [],
   "source": [
    "mean_group1 = 100 \n",
    "mean_group2 = 110\n",
    "sd_group = 10"
   ]
  },
  {
   "cell_type": "markdown",
   "id": "28301d1e-9477-496e-bc47-bba42c91cf7a",
   "metadata": {},
   "source": [
    "Now we will decide how to set up our trial:\n",
    "- Alpha (a.k.a. the significance level, or how often we detect a difference when one **doesn't** exist)\n",
    "- Power (or how often we detect a difference when it **does** exist)\n",
    "- Number of tails (are we looking for a one-sided or two-sided effect?)"
   ]
  },
  {
   "cell_type": "code",
   "execution_count": null,
   "id": "8d6a33eb-4116-4e85-b591-0361a85ce6a1",
   "metadata": {
    "tags": []
   },
   "outputs": [],
   "source": [
    "alpha = 0.05\n",
    "power = 0.8\n",
    "no_tails = 2"
   ]
  },
  {
   "cell_type": "markdown",
   "id": "1e42fe8d-bbc4-4131-ace2-24791a953a07",
   "metadata": {},
   "source": [
    "Now we can work out how many subjects we need for each group!\n",
    "\n",
    "In the code below, we will keep increasing the number of subjects in each group until we reach the desired power (specified above)"
   ]
  },
  {
   "cell_type": "code",
   "execution_count": null,
   "id": "81c68764-4457-4e2b-88fa-f57d59aaf46a",
   "metadata": {
    "tags": []
   },
   "outputs": [],
   "source": [
    "alpha_tail = alpha/no_tails\n",
    "\n",
    "max_allowed = 2000\n",
    "calc_power=np.zeros((max_allowed,1))\n",
    "delta=np.zeros((max_allowed,1))\n",
    "df=np.zeros((max_allowed,1))\n",
    "tcrit=np.zeros((max_allowed,1))\n",
    "\n",
    "cohens_d = np.abs(mean_group1-mean_group2)/sd_group\n",
    "\n",
    "for n in np.arange(2,max_allowed+1,1):\n",
    "    n1 = n\n",
    "    n2 = n\n",
    "    \n",
    "    delta[n] = cohens_d*np.sqrt(1/((1/n1)+(1/n2)))\n",
    "    df[n] = n1 + n2 - 2\n",
    "    tcrit[n] = stats.t.ppf(1-alpha_tail,df[n])\n",
    "    calc_power[n]=1-(stats.nct.cdf(tcrit[n],df[n],delta[n])-stats.nct.cdf(-tcrit[n],df[n],delta[n]))\n",
    "\n",
    "    if calc_power[n] > power:\n",
    "        print(\"We need at least \"+str(n)+\" per group\")\n",
    "        print(str(no_tails)+\" tail alpha = \"+str(alpha))\n",
    "        print(\"Exact power = \"+'{:.3f}'.format(calc_power[n][0]))\n",
    "        break"
   ]
  },
  {
   "cell_type": "markdown",
   "id": "b8a3a44a-ddce-41f5-ae74-0f304364adaa",
   "metadata": {},
   "source": [
    "We've done the power calculation! We now know how many subjects we need in each group to achieve the target alpha and power. We can also visualise what happened to the power as we kept changing the number of subjects in each group:\n",
    "\n",
    "*(aside: we're only visualising up to 100 subjs per group so it doesn't take ages to plot...)*"
   ]
  },
  {
   "cell_type": "code",
   "execution_count": null,
   "id": "42fdf13a-7011-4bdc-ae26-a533ea2dd003",
   "metadata": {
    "tags": []
   },
   "outputs": [],
   "source": [
    "def power_calc_plot(t):\n",
    "    zpts=np.arange(-10,10,0.01)\n",
    "    ax1.clear()\n",
    "    ax1.plot(zpts,stats.t.pdf(zpts,df[t]),'r')\n",
    "    ax1.plot(zpts,stats.nct.pdf(zpts,df[t],delta[t]),'b')\n",
    "    ax1.stem(tcrit[t],stats.nct.pdf(tcrit[t],df[t],delta[t]),'k',markerfmt=\" \")\n",
    "    ax1.text(tcrit[t]+1,0.3,\"Power = \"+'{:.2f}'.format(calc_power[t][0]))\n",
    "    ax1.text(tcrit[t]+1,0.2,str(no_tails)+\" tail alpha = \"+str(alpha))\n",
    "    ax1.set_ylabel('Prob. density')\n",
    "    ax1.set_xlabel('z')\n",
    "    #ax1.set_ylim([0,0.4])\n",
    "    ax1.fill_between(zpts[zpts>tcrit[t]], stats.nct.pdf(zpts[zpts>tcrit[t]],df[t],delta[t]), 0, color='b', alpha=0.3)\n",
    "    ax1.fill_between(zpts[zpts>tcrit[t]], stats.t.pdf(zpts[zpts>tcrit[t]],df[t]), 0, color='r', alpha=0.3)\n",
    "\n",
    "    ax2.clear()\n",
    "    ax2.plot(np.arange(2,n+1,1),calc_power[2:n+1],'k:')\n",
    "    ax2.scatter(t,calc_power[t])\n",
    "    ax2.text(t,calc_power[t]+0.1,str(t)+\" per group\")\n",
    "    ax2.set_ylabel('Power')\n",
    "    ax2.set_xlabel('Subjs per group')\n",
    "    ax2.set_ylim([0,1])    \n",
    "    ax2.set_xlim([2,n])    \n",
    "    \n",
    "if n<100:    \n",
    "    fig, (ax1, ax2) = plt.subplots(2, 1)\n",
    "    fig.subplots_adjust(hspace=0.25)\n",
    "    html=HTML(animation.FuncAnimation(fig, power_calc_plot,frames=np.arange(2,n+1,1),init_func=lambda: None, interval=60).to_jshtml())\n",
    "    display(html)\n",
    "    plt.close() \n",
    "else:\n",
    "    print('Too many points to visualise!')"
   ]
  },
  {
   "cell_type": "markdown",
   "id": "03eacb16-45c5-4e23-9eb9-81890a36b474",
   "metadata": {},
   "source": [
    "## Step 3: Monte Carlo simulation (treatment effect)\n",
    "\n",
    "Now we will run a Monte Carlo simulation: essentially we pretend to run the trial many, many times, using the outcome measure distributions we assumed in the power calculation, and see how often we measure a significant difference. This proportion should be close to the **power** we used in our study design.\n",
    "\n",
    "First, we assume that the mean and standard deviations of each group are exactly as we predicted:"
   ]
  },
  {
   "cell_type": "code",
   "execution_count": null,
   "id": "6bb99820-5db9-4afc-98ec-ca0159edc339",
   "metadata": {
    "tags": []
   },
   "outputs": [],
   "source": [
    "# Assume there is a real difference between groups\n",
    "sim_mean_group1 = mean_group1 \n",
    "sim_mean_group2 = mean_group2\n",
    "sim_sd_group = sd_group\n",
    "sim_n1 = n\n",
    "sim_n2 = n "
   ]
  },
  {
   "cell_type": "markdown",
   "id": "b3c80044-07d1-45a8-aa1d-d96fd28426f4",
   "metadata": {},
   "source": [
    "Now let's repeatedly run a trial, where the outcome measure data looks exactly as we predicted (i.e. has the same mean values and standard deviations)"
   ]
  },
  {
   "cell_type": "code",
   "execution_count": null,
   "id": "ea7e9119-f8b6-4d6f-92ce-be80c60124ee",
   "metadata": {
    "tags": []
   },
   "outputs": [],
   "source": [
    "# Let's simulate our study lots of times!\n",
    "trials_to_sim = 10000\n",
    "trial_result = np.zeros((trials_to_sim,2))\n",
    "\n",
    "# TESTING FOR A GROUP DIFFERENCE: WHAT IS OUR TRUE POWER?\n",
    "for trial_no in range(trials_to_sim):\n",
    "    \n",
    "    data_gp1 = sim_mean_group1 + sim_sd_group*(np.random.normal(0., 1., sim_n1))\n",
    "    data_gp2 = sim_mean_group2 + sim_sd_group*(np.random.normal(0., 1., sim_n2))\n",
    "                                       \n",
    "    trial_result[trial_no] = stats.ttest_ind(data_gp1, data_gp2)\n",
    "\n",
    "meas_power = np.sum(trial_result[:,1]<0.05)/trials_to_sim\n",
    "print(\"We measure a (true) effect in \"+'{:.2f}'.format(meas_power*100)+\"% of the simulated trials!\")\n",
    "print(\"We designed our study to have a power of \"+'{:.2f}'.format(power*100)+\"%\")"
   ]
  },
  {
   "cell_type": "markdown",
   "id": "8de16339-a3d6-4909-8300-a7ae76e225de",
   "metadata": {},
   "source": [
    "## Step 4: Monte Carlo simulation (no treatment effect)\n",
    "\n",
    "Let's repeat the Monte Carlo simulation, but this time assuming that both groups have the same mean outcome measure. This time there is *no treatment effect*, and so the proportion of times we (falsely) measure a significant effect should be close to the **alpha** we used in our study design."
   ]
  },
  {
   "cell_type": "code",
   "execution_count": null,
   "id": "c2d4be25-f3c5-41d8-9973-3b6c64630cf1",
   "metadata": {
    "tags": []
   },
   "outputs": [],
   "source": [
    "# Let's simulate our study lots of times!\n",
    "trials_to_sim = 10000\n",
    "\n",
    "# Assume there is a NO real difference between groups\n",
    "sim_mean_group1 = mean_group1 \n",
    "sim_mean_group2 = mean_group1 # NB: the groups now have the same mean!\n",
    "sim_sd_group = sd_group\n",
    "sim_n1 = n\n",
    "sim_n2 = n \n",
    "\n",
    "\n",
    "trial_result = np.zeros((trials_to_sim,2))\n",
    "\n",
    "# TESTING FOR A GROUP DIFFERENCE: WHAT IS OUR TRUE ALPHA?\n",
    "for trial_no in range(trials_to_sim):\n",
    "    \n",
    "    data_gp1 = sim_mean_group1 + sim_sd_group*(np.random.normal(0., 1., sim_n1))\n",
    "    data_gp2 = sim_mean_group2 + sim_sd_group*(np.random.normal(0., 1., sim_n2))\n",
    "                                       \n",
    "    trial_result[trial_no] = stats.ttest_ind(data_gp1, data_gp2)\n",
    "                                       \n",
    "meas_alpha = np.sum(trial_result[:,1]<0.05)/trials_to_sim\n",
    "\n",
    "print(\"We measure a (non-existant) effect in \"+'{:.2f}'.format(meas_alpha*100)+\"% of trials!\")\n",
    "print(\"We designed our study to have an alpha of \"+'{:.2f}'.format(alpha*100)+\"%\")"
   ]
  }
 ],
 "metadata": {
  "kernelspec": {
   "display_name": "Python 3 (ipykernel)",
   "language": "python",
   "name": "python3"
  },
  "language_info": {
   "codemirror_mode": {
    "name": "ipython",
    "version": 3
   },
   "file_extension": ".py",
   "mimetype": "text/x-python",
   "name": "python",
   "nbconvert_exporter": "python",
   "pygments_lexer": "ipython3",
   "version": "3.8.18"
  }
 },
 "nbformat": 4,
 "nbformat_minor": 5
}
